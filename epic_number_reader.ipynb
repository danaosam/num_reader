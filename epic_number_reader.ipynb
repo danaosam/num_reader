{
  "nbformat": 4,
  "nbformat_minor": 0,
  "metadata": {
    "colab": {
      "name": "epic_number_reader.ipynb",
      "provenance": [],
      "collapsed_sections": []
    },
    "kernelspec": {
      "name": "python3",
      "display_name": "Python 3"
    },
    "language_info": {
      "name": "python"
    }
  },
  "cells": [
    {
      "cell_type": "code",
      "metadata": {
        "id": "Nl2o7Oj_kymZ",
        "colab": {
          "base_uri": "https://localhost:8080/"
        },
        "outputId": "f2009476-3353-4cac-ab49-b6bf67746d61"
      },
      "source": [
        "import tensorflow as tf\n",
        "tf.__version__\n",
        "mnist = tf.keras.datasets.mnist #import your dataset ' mnist like hello world in datasets 28*28 images of handwritten images 0-9 \n",
        "(x_train ,y_train),(x_test , y_test) = mnist.load_data() # unpack your data\n",
        "x_train = tf.keras.utils.normalize(x_train,axis=1) #normalization\n",
        "x_test = tf.keras.utils.normalize(x_test,axis=1)\n",
        "\n"
      ],
      "execution_count": null,
      "outputs": [
        {
          "output_type": "stream",
          "text": [
            "Downloading data from https://storage.googleapis.com/tensorflow/tf-keras-datasets/mnist.npz\n",
            "11493376/11490434 [==============================] - 0s 0us/step\n"
          ],
          "name": "stdout"
        }
      ]
    },
    {
      "cell_type": "code",
      "metadata": {
        "colab": {
          "base_uri": "https://localhost:8080/",
          "height": 1000
        },
        "id": "U_c37b_CtX-s",
        "outputId": "e86e92cc-ecef-44e0-a1f7-b537dbc02a84"
      },
      "source": [
        "import matplotlib.pyplot as plt\n",
        "plt.imshow(x_train[8]) # change the number inside [] to pass to another image in your dataset\n",
        "print(x_train[5])"
      ],
      "execution_count": null,
      "outputs": [
        {
          "output_type": "stream",
          "text": [
            "[[0.         0.         0.         0.         0.         0.\n",
            "  0.         0.         0.         0.         0.         0.\n",
            "  0.         0.         0.         0.         0.         0.\n",
            "  0.         0.         0.         0.         0.         0.\n",
            "  0.         0.         0.         0.        ]\n",
            " [0.         0.         0.         0.         0.         0.\n",
            "  0.         0.         0.         0.         0.         0.\n",
            "  0.         0.         0.         0.         0.         0.\n",
            "  0.         0.         0.         0.         0.         0.\n",
            "  0.         0.         0.         0.        ]\n",
            " [0.         0.         0.         0.         0.         0.\n",
            "  0.         0.         0.         0.         0.         0.\n",
            "  0.         0.         0.         0.         0.         0.\n",
            "  0.         0.         0.         0.         0.         0.\n",
            "  0.         0.         0.         0.        ]\n",
            " [0.         0.         0.         0.         0.         0.\n",
            "  0.         0.         0.         0.         0.         0.\n",
            "  0.         0.         0.         0.         0.         0.\n",
            "  0.         0.         0.         0.         0.         0.\n",
            "  0.         0.         0.         0.        ]\n",
            " [0.         0.         0.         0.         0.         0.\n",
            "  0.         0.         0.         0.         0.         0.\n",
            "  0.         0.         0.         0.         0.         0.\n",
            "  0.         0.         0.         0.         0.         0.\n",
            "  0.         0.         0.         0.        ]\n",
            " [0.         0.         0.         0.         0.         0.\n",
            "  0.         0.         0.         0.         0.         0.\n",
            "  0.         0.         0.         0.01941852 0.04023069 0.1562113\n",
            "  0.14359004 0.00921171 0.         0.         0.         0.\n",
            "  0.         0.         0.         0.        ]\n",
            " [0.         0.         0.         0.         0.         0.\n",
            "  0.         0.         0.         0.         0.         0.\n",
            "  0.         0.04850047 0.23127813 0.31069633 0.40552536 0.39365246\n",
            "  0.29659582 0.19213005 0.         0.         0.         0.\n",
            "  0.         0.         0.         0.        ]\n",
            " [0.         0.         0.         0.         0.         0.\n",
            "  0.         0.         0.         0.         0.         0.06513354\n",
            "  0.23434254 0.35860954 0.38597409 0.37791429 0.36046699 0.32960583\n",
            "  0.29659582 0.30530254 0.1167979  0.         0.         0.\n",
            "  0.         0.         0.         0.        ]\n",
            " [0.         0.         0.         0.         0.         0.\n",
            "  0.         0.         0.         0.02761485 0.23598644 0.38917288\n",
            "  0.38851527 0.37036723 0.38597409 0.32264619 0.04988606 0.05779818\n",
            "  0.29659582 0.33162172 0.17519686 0.         0.         0.\n",
            "  0.         0.         0.         0.        ]\n",
            " [0.         0.         0.         0.         0.         0.\n",
            "  0.         0.         0.         0.17673505 0.39124068 0.41034128\n",
            "  0.38851527 0.37036723 0.33236658 0.04331824 0.         0.05779818\n",
            "  0.29659582 0.33162172 0.17519686 0.         0.         0.\n",
            "  0.         0.         0.         0.        ]\n",
            " [0.         0.         0.         0.         0.         0.\n",
            "  0.         0.         0.         0.33321921 0.39124068 0.41034128\n",
            "  0.33918    0.24544178 0.0459493  0.         0.         0.1202827\n",
            "  0.29659582 0.33162172 0.17519686 0.         0.         0.\n",
            "  0.         0.         0.         0.        ]\n",
            " [0.         0.         0.         0.         0.         0.\n",
            "  0.         0.         0.         0.04786574 0.19872542 0.09444363\n",
            "  0.033918   0.         0.         0.         0.         0.1562113\n",
            "  0.29659582 0.33162172 0.17519686 0.         0.         0.\n",
            "  0.         0.         0.         0.        ]\n",
            " [0.         0.         0.         0.         0.         0.\n",
            "  0.         0.         0.         0.         0.         0.\n",
            "  0.         0.         0.         0.         0.         0.24525173\n",
            "  0.29659582 0.33162172 0.17519686 0.         0.         0.\n",
            "  0.         0.         0.         0.        ]\n",
            " [0.         0.         0.         0.         0.         0.\n",
            "  0.         0.         0.         0.         0.         0.\n",
            "  0.         0.16166824 0.18532883 0.18223535 0.19471654 0.31554682\n",
            "  0.29659582 0.25529609 0.00875984 0.         0.         0.\n",
            "  0.         0.         0.         0.        ]\n",
            " [0.         0.         0.         0.         0.         0.\n",
            "  0.         0.         0.         0.         0.01552542 0.08630194\n",
            "  0.27596918 0.37183695 0.38750574 0.38090176 0.40713459 0.39521458\n",
            "  0.2683486  0.04605857 0.         0.         0.         0.\n",
            "  0.         0.         0.         0.        ]\n",
            " [0.         0.         0.         0.         0.         0.\n",
            "  0.         0.         0.00988969 0.09941347 0.35242712 0.41034128\n",
            "  0.37463972 0.33509416 0.26037935 0.36148324 0.40552536 0.39365246\n",
            "  0.2718795  0.15396723 0.01751969 0.         0.         0.\n",
            "  0.         0.         0.         0.        ]\n",
            " [0.         0.         0.         0.         0.         0.\n",
            "  0.         0.01125272 0.1542792  0.46392951 0.39124068 0.2035423\n",
            "  0.09096191 0.         0.02756958 0.31069633 0.40552536 0.39365246\n",
            "  0.29659582 0.33162172 0.25403544 0.02214624 0.         0.\n",
            "  0.         0.         0.         0.        ]\n",
            " [0.         0.         0.         0.         0.         0.\n",
            "  0.01071664 0.25318618 0.4984405  0.46392951 0.27945763 0.02605341\n",
            "  0.         0.03086394 0.31092358 0.37791429 0.39747923 0.20151257\n",
            "  0.20361539 0.33162172 0.7358268  0.58212984 0.20843953 0.15628175\n",
            "  0.21184745 0.         0.         0.        ]\n",
            " [0.         0.         0.         0.         0.         0.00915362\n",
            "  0.29149268 0.4726142  0.47668317 0.19514495 0.02639322 0.\n",
            "  0.08171154 0.29394225 0.38597409 0.32264619 0.1045998  0.\n",
            "  0.01647755 0.09474906 0.47595146 0.76246354 0.79586002 0.80373473\n",
            "  0.96412208 0.         0.         0.        ]\n",
            " [0.         0.         0.         0.         0.         0.32037666\n",
            "  0.54011878 0.45385967 0.17405859 0.03313782 0.11333559 0.27681753\n",
            "  0.37618145 0.37036723 0.19298705 0.04331824 0.         0.\n",
            "  0.         0.         0.         0.28157367 0.56847145 0.57409624\n",
            "  0.15996644 0.         0.         0.        ]\n",
            " [0.         0.         0.         0.         0.         0.70482866\n",
            "  0.54011878 0.45948603 0.40547739 0.39765386 0.39124068 0.41034128\n",
            "  0.38851527 0.18224419 0.00459493 0.         0.         0.\n",
            "  0.         0.         0.         0.         0.         0.\n",
            "  0.         0.         0.         0.        ]\n",
            " [0.         0.         0.         0.         0.         0.63159971\n",
            "  0.54011878 0.4726142  0.4984405  0.46392951 0.27635254 0.18888726\n",
            "  0.05550218 0.00587884 0.         0.         0.         0.\n",
            "  0.         0.         0.         0.         0.         0.\n",
            "  0.         0.         0.         0.        ]\n",
            " [0.         0.         0.         0.         0.         0.03966568\n",
            "  0.19932955 0.2681898  0.23933056 0.04234277 0.00931525 0.\n",
            "  0.         0.         0.         0.         0.         0.\n",
            "  0.         0.         0.         0.         0.         0.\n",
            "  0.         0.         0.         0.        ]\n",
            " [0.         0.         0.         0.         0.         0.\n",
            "  0.         0.         0.         0.         0.         0.\n",
            "  0.         0.         0.         0.         0.         0.\n",
            "  0.         0.         0.         0.         0.         0.\n",
            "  0.         0.         0.         0.        ]\n",
            " [0.         0.         0.         0.         0.         0.\n",
            "  0.         0.         0.         0.         0.         0.\n",
            "  0.         0.         0.         0.         0.         0.\n",
            "  0.         0.         0.         0.         0.         0.\n",
            "  0.         0.         0.         0.        ]\n",
            " [0.         0.         0.         0.         0.         0.\n",
            "  0.         0.         0.         0.         0.         0.\n",
            "  0.         0.         0.         0.         0.         0.\n",
            "  0.         0.         0.         0.         0.         0.\n",
            "  0.         0.         0.         0.        ]\n",
            " [0.         0.         0.         0.         0.         0.\n",
            "  0.         0.         0.         0.         0.         0.\n",
            "  0.         0.         0.         0.         0.         0.\n",
            "  0.         0.         0.         0.         0.         0.\n",
            "  0.         0.         0.         0.        ]\n",
            " [0.         0.         0.         0.         0.         0.\n",
            "  0.         0.         0.         0.         0.         0.\n",
            "  0.         0.         0.         0.         0.         0.\n",
            "  0.         0.         0.         0.         0.         0.\n",
            "  0.         0.         0.         0.        ]]\n"
          ],
          "name": "stdout"
        },
        {
          "output_type": "display_data",
          "data": {
            "image/png": "[encoded data removed]",
            "text/plain": [
              "<Figure size 432x288 with 1 Axes>"
            ]
          },
          "metadata": {
            "tags": [],
            "needs_background": "light"
          }
        }
      ]
    },
    {
      "cell_type": "code",
      "metadata": {
        "colab": {
          "base_uri": "https://localhost:8080/"
        },
        "id": "af3E2Yy3uYDs",
        "outputId": "6430c34e-68d6-4e45-ade8-22be74c8854b"
      },
      "source": [
        "#build up the model \n",
        "model = tf.keras.models.Sequential()\n",
        "model.add(tf.keras.layers.Flatten()) # instead using np.reshape (input layer)\n",
        "model.add(tf.keras.layers.Dense(128,activation=tf.nn.relu)) # 128 number of nodes , 1st layer\n",
        "model.add(tf.keras.layers.Dense(128,activation=tf.nn.relu)) # repeat for the 2nd layer \n",
        "model.add(tf.keras.layers.Dense(10,activation=tf.nn.softmax)) # number of nodes in the output layer is 10 / activation is a softmax function : prop distribution\n",
        "model.compile(optimizer='adam',\n",
        "              loss = 'sparse_categorical_crossentropy',\n",
        "              metrics = ['accuracy'])\n",
        "model.fit(x_train,y_train,epochs=4)"
      ],
      "execution_count": null,
      "outputs": [
        {
          "output_type": "stream",
          "text": [
            "Epoch 1/4\n",
            "1875/1875 [==============================] - 5s 2ms/step - loss: 0.4716 - accuracy: 0.8645\n",
            "Epoch 2/4\n",
            "1875/1875 [==============================] - 4s 2ms/step - loss: 0.1132 - accuracy: 0.9658\n",
            "Epoch 3/4\n",
            "1875/1875 [==============================] - 4s 2ms/step - loss: 0.0707 - accuracy: 0.9781\n",
            "Epoch 4/4\n",
            "1875/1875 [==============================] - 4s 2ms/step - loss: 0.0499 - accuracy: 0.9835\n"
          ],
          "name": "stdout"
        },
        {
          "output_type": "execute_result",
          "data": {
            "text/plain": [
              "<tensorflow.python.keras.callbacks.History at 0x7fe78c53c8d0>"
            ]
          },
          "metadata": {
            "tags": []
          },
          "execution_count": 3
        }
      ]
    },
    {
      "cell_type": "code",
      "metadata": {
        "id": "TGWj2IlW3QiF",
        "colab": {
          "base_uri": "https://localhost:8080/"
        },
        "outputId": "e5c6f4c2-42c5-4807-c3a5-76cc3acaa0e8"
      },
      "source": [
        "validation_loss,validation_accuracy= model.evaluate(x_test,y_test)\n",
        "print(validation_loss,validation_accuracy)"
      ],
      "execution_count": null,
      "outputs": [
        {
          "output_type": "stream",
          "text": [
            "313/313 [==============================] - 1s 1ms/step - loss: 0.1014 - accuracy: 0.9691\n",
            "0.10140067338943481 0.9690999984741211\n"
          ],
          "name": "stdout"
        }
      ]
    },
    {
      "cell_type": "code",
      "metadata": {
        "id": "80_S2iEZ4IDE",
        "colab": {
          "base_uri": "https://localhost:8080/"
        },
        "outputId": "8b56730e-6fc1-4c05-d461-fc77500a2ec5"
      },
      "source": [
        "model.save('epic_num_reader_model')"
      ],
      "execution_count": null,
      "outputs": [
        {
          "output_type": "stream",
          "text": [
            "INFO:tensorflow:Assets written to: epic_num_reader_model/assets\n"
          ],
          "name": "stdout"
        }
      ]
    },
    {
      "cell_type": "code",
      "metadata": {
        "id": "gP_DbyEL4nKp"
      },
      "source": [
        "new_model = tf.keras.models.load_model('epic_num_reader_model')"
      ],
      "execution_count": null,
      "outputs": []
    },
    {
      "cell_type": "code",
      "metadata": {
        "id": "G_-eMAB45CR1"
      },
      "source": [
        "#if you want to pridict using the model we have created \n",
        "predictions = new_model.predict(x_test)\n",
        "#print(predictions): its a mess \n"
      ],
      "execution_count": null,
      "outputs": []
    },
    {
      "cell_type": "code",
      "metadata": {
        "id": "BEpKg5AC5tWS",
        "colab": {
          "base_uri": "https://localhost:8080/"
        },
        "outputId": "c39ba443-443a-4c83-d5e4-a08afe3762c5"
      },
      "source": [
        "import numpy as np\n",
        "print(np.argmax(predictions[55]))"
      ],
      "execution_count": null,
      "outputs": [
        {
          "output_type": "stream",
          "text": [
            "0\n"
          ],
          "name": "stdout"
        }
      ]
    },
    {
      "cell_type": "code",
      "metadata": {
        "id": "aLetYn9D6OOP",
        "colab": {
          "base_uri": "https://localhost:8080/",
          "height": 265
        },
        "outputId": "4f3dc9b6-17a4-407b-d36e-0032d6097ad8"
      },
      "source": [
        "plt.imshow(x_test[55])\n",
        "plt.show()"
      ],
      "execution_count": null,
      "outputs": [
        {
          "output_type": "display_data",
          "data": {
            "image/png": "[encoded data removed]",
            "text/plain": [
              "<Figure size 432x288 with 1 Axes>"
            ]
          },
          "metadata": {
            "tags": [],
            "needs_background": "light"
          }
        }
      ]
    },
    {
      "cell_type": "code",
      "metadata": {
        "id": "CPxj7b6p6lb8"
      },
      "source": [
        ""
      ],
      "execution_count": null,
      "outputs": []
    }
  ]
}